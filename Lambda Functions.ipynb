{
 "cells": [
  {
   "cell_type": "code",
   "execution_count": null,
   "metadata": {},
   "outputs": [],
   "source": [
    "import os"
   ]
  },
  {
   "cell_type": "code",
   "execution_count": null,
   "metadata": {},
   "outputs": [],
   "source": [
    "# Lambda Functions are essentially short hand and temporary functions.\n",
    "# Good links\n",
    "# https://www.w3schools.com/python/python_lambda.asp\n"
   ]
  },
  {
   "cell_type": "code",
   "execution_count": null,
   "metadata": {},
   "outputs": [],
   "source": [
    "\"\"\"\n",
    "Standard Functions:\n",
    "- Used Many Times\n",
    "- Multiple lines of code\n",
    "- Named only\n",
    "- None or more inputs\n",
    "- None or more returns\n",
    "\n",
    "Lambda Functions:\n",
    "- Intended for single use\n",
    "- Defined in a single line \n",
    "- Named or Anonymous\n",
    "- None or more inputs \n",
    "- One or more Return\n",
    "\n",
    "\n",
    "\"\"\""
   ]
  },
  {
   "cell_type": "code",
   "execution_count": 1,
   "metadata": {},
   "outputs": [
    {
     "data": {
      "text/plain": [
       "6"
      ]
     },
     "execution_count": 1,
     "metadata": {},
     "output_type": "execute_result"
    }
   ],
   "source": [
    "#First example\n",
    "\n",
    "def myfunction (x,y,z):\n",
    "    result= x+y+z\n",
    "    return result\n",
    "\n",
    "myfunction (1,2,3)"
   ]
  },
  {
   "cell_type": "code",
   "execution_count": 5,
   "metadata": {},
   "outputs": [
    {
     "data": {
      "text/plain": [
       "6"
      ]
     },
     "execution_count": 5,
     "metadata": {},
     "output_type": "execute_result"
    }
   ],
   "source": [
    "myfunction2 = lambda x,y,z: x+y+z\n",
    "\n",
    "myfunction2 (1,2,3)"
   ]
  },
  {
   "cell_type": "code",
   "execution_count": 6,
   "metadata": {},
   "outputs": [
    {
     "data": {
      "text/plain": [
       "25"
      ]
     },
     "execution_count": 6,
     "metadata": {},
     "output_type": "execute_result"
    }
   ],
   "source": [
    "#squaring a number\n",
    "\n",
    "squared = lambda x: x **2 \n",
    "squared (5)"
   ]
  },
  {
   "cell_type": "code",
   "execution_count": 18,
   "metadata": {},
   "outputs": [
    {
     "name": "stdout",
     "output_type": "stream",
     "text": [
      "['Nate Anderson', 'Steven Jones', 'John Silver']\n"
     ]
    }
   ],
   "source": [
    "# Combine Methods and Functions\n",
    "\n",
    "\n",
    "\"\"\"\n",
    "list.sort()\n",
    "\n",
    "\n",
    "Methods sorts list in place, using only <comparison\n",
    "\n",
    "\"\"\"\n",
    "\n",
    "\n",
    "names = ['John Silver', 'Nate Anderson', 'Steven Jones']\n",
    "\n",
    "names.sort(key=lambda x : x.split()[-1])\n",
    "print(names)"
   ]
  },
  {
   "cell_type": "code",
   "execution_count": 21,
   "metadata": {},
   "outputs": [],
   "source": [
    "class Person: \n",
    "    def __init__(self,name,age):\n",
    "        self.name=name\n",
    "        self.age=age\n",
    "        \n",
    "    def __repr__(self):\n",
    "        return f'{self.name}:{self.age}'\n",
    "        \n",
    "\n",
    "        "
   ]
  },
  {
   "cell_type": "code",
   "execution_count": 26,
   "metadata": {},
   "outputs": [
    {
     "data": {
      "text/plain": [
       "[Steve:32, John:16]"
      ]
     },
     "execution_count": 26,
     "metadata": {},
     "output_type": "execute_result"
    }
   ],
   "source": [
    "    john= Person('John',16)\n",
    "    steve= Person('Steve',32)\n",
    "    \n",
    "    p=[john,steve]\n",
    "    \n",
    "    #p.sort(). This wont work why?\n",
    "    \n",
    "    p.sort(key=lambda x:x.age, reverse=True)\n",
    "    \n",
    "    p"
   ]
  }
 ],
 "metadata": {
  "kernelspec": {
   "display_name": "Python 3",
   "language": "python",
   "name": "python3"
  },
  "language_info": {
   "codemirror_mode": {
    "name": "ipython",
    "version": 3
   },
   "file_extension": ".py",
   "mimetype": "text/x-python",
   "name": "python",
   "nbconvert_exporter": "python",
   "pygments_lexer": "ipython3",
   "version": "3.7.6"
  }
 },
 "nbformat": 4,
 "nbformat_minor": 4
}
